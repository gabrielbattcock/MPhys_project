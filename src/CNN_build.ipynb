{
  "nbformat": 4,
  "nbformat_minor": 0,
  "metadata": {
    "colab": {
      "provenance": []
    },
    "kernelspec": {
      "name": "python3",
      "display_name": "Python 3"
    },
    "accelerator": "GPU"
  },
  "cells": [
    {
      "cell_type": "code",
      "metadata": {
        "id": "9kANIfHv-IHN",
        "outputId": "2f9f893a-97d7-4954-b4ef-0f39898092aa",
        "colab": {
          "base_uri": "https://localhost:8080/",
          "height": 51
        }
      },
      "source": [
        "%tensorflow_version 1.x\n",
        "import keras\n",
        "from keras import backend as K\n",
        "from keras.layers import Layer\n",
        "from keras.initializers import Constant\n",
        "import numpy as np\n",
        "import os"
      ],
      "execution_count": null,
      "outputs": [
        {
          "output_type": "stream",
          "text": [
            "TensorFlow 1.x selected.\n"
          ],
          "name": "stdout"
        },
        {
          "output_type": "stream",
          "text": [
            "Using TensorFlow backend.\n"
          ],
          "name": "stderr"
        }
      ]
    },
    {
      "cell_type": "code",
      "metadata": {
        "id": "Uu520EesY7mL",
        "outputId": "9a1dd3f4-4ce4-4373-e9a8-70b9f61b3def",
        "colab": {
          "base_uri": "https://localhost:8080/",
          "height": 34
        }
      },
      "source": [
        "os.getcwd()"
      ],
      "execution_count": null,
      "outputs": [
        {
          "output_type": "execute_result",
          "data": {
            "text/plain": [
              "'/content'"
            ]
          },
          "metadata": {
            "tags": []
          },
          "execution_count": 2
        }
      ]
    },
    {
      "cell_type": "code",
      "metadata": {
        "id": "Hc4nON3f-Q4p"
      },
      "source": [
        "class WindowLevelLayer(Layer):\n",
        "  def __init__(self, output_dim, window, level, **kwargs):\n",
        "    self.output_dim = output_dim\n",
        "    self.startWindow = window\n",
        "    self.startLevel = level\n",
        "    super(WindowLevelLayer, self).__init__(**kwargs)\n",
        "\n",
        "  def build(self, input_shape):\n",
        "    self.WLc1 = self.add_weight(name=\"windowLevel_c1\",\n",
        "                                  shape=(2,),\n",
        "                                  initializer='uniform',\n",
        "                                  trainable=True)\n",
        "    self.WLc2 = self.add_weight(name=\"windowLevel_c2\",\n",
        "                                  shape=(2,),\n",
        "                                  initializer='uniform',\n",
        "                                  trainable=True)\n",
        "    self.WLc3 = self.add_weight(name=\"windowLevel_c3\",\n",
        "                                  shape=(2,),\n",
        "                                  initializer='uniform',\n",
        "                                  trainable=True)\n",
        "\n",
        "    self.set_weights( [np.array([ self.startWindow[0], self.startLevel[0] ] ),\n",
        "                       np.array([ self.startWindow[1], self.startLevel[1] ] ),\n",
        "                       np.array([ self.startWindow[2], self.startLevel[2] ])\n",
        "                     ])\n",
        "    super(WindowLevelLayer, self).build(input_shape)\n",
        "\n",
        "\n",
        "  def call(self, x):\n",
        "    minval_1 = K.ones_like(x) * (self.WLc1[1] - self.WLc1[0]/2)\n",
        "    maxval_1 = K.ones_like(x) * (self.WLc1[1] + self.WLc1[0]/2)\n",
        "    c1 = ( (K.minimum(K.maximum(x, minval_1), maxval_1) - minval_1) / (maxval_1 - minval_1) )*255\n",
        "\n",
        "    minval_2 = K.ones_like(x) * (self.WLc2[1] - self.WLc2[0]/2)\n",
        "    maxval_2 = K.ones_like(x) * (self.WLc2[1] + self.WLc2[0]/2)\n",
        "    c2 = ((K.minimum(K.maximum(x, minval_2), maxval_2)  - minval_2)/ (maxval_2 - minval_2)   )*255\n",
        "\n",
        "    minval_3 = K.ones_like(x) * (self.WLc3[1] - self.WLc3[0]/2)\n",
        "    maxval_3 = K.ones_like(x) * (self.WLc3[1] + self.WLc3[0]/2)\n",
        "    c3 = ((K.minimum(K.maximum(x, minval_3), maxval_3)  - minval_3)/ (maxval_3 - minval_3)   )*255\n",
        "\n",
        "\n",
        "    return K.concatenate([c1,c2,c3], axis=-1)\n",
        "\n",
        "  def compute_output_shape(self, input_shape):\n",
        "    return (*input_shape[:-1], 3)"
      ],
      "execution_count": null,
      "outputs": []
    },
    {
      "cell_type": "code",
      "metadata": {
        "id": "8iCJvChZ-T_2"
      },
      "source": [
        "from keras.layers import Input, Conv2D, MaxPooling2D, BatchNormalization, Concatenate, UpSampling2D\n",
        "from keras.models import Model\n",
        "\n",
        "#from WindowLevelLayer import WindowLevelLayer"
      ],
      "execution_count": null,
      "outputs": []
    },
    {
      "cell_type": "code",
      "metadata": {
        "id": "45H3tjWm-V3e"
      },
      "source": [
        "def buildModel(vggWeightsPath=None, classes=4, freezeVGGLayers=True, wllayer=False, wlSpec=None):\n",
        "    activ = 'relu'\n",
        "    ## Add our new W/L layer to the model to go from 1 channel to 3\n",
        "    if wllayer:\n",
        "      inputLayer = Input(name=\"input_1\", shape=(512,512,1))\n",
        "      if wlSpec is None:\n",
        "        rgb_ified = WindowLevelLayer(1, [600, 1600, 700], [1070, 1800, 960], input_shape=(512,512,1))(inputLayer)\n",
        "      else:\n",
        "        rgb_ified = WindowLevelLayer(1, wlSpec[0,:], wlSpec[1,:], input_shape=(512,512,1))(inputLayer)\n",
        "\n",
        "      b1_c1 = Conv2D(64, (3,3), name=\"block1_conv1\", padding='same', activation=activ)(rgb_ified)\n",
        "    else:\n",
        "      inputLayer = Input(name=\"input_1\", shape=(512,512,3))\n",
        "      b1_c1 = Conv2D(64, (3,3), name=\"block1_conv1\", padding='same', activation=activ)(inputLayer)\n",
        "\n",
        "    b1_c2 = Conv2D(64, (3,3), name=\"block1_conv2\", padding='same', activation=activ)(b1_c1) ## Skip connection 1 from here\n",
        "    b1_pool = MaxPooling2D(name=\"block1_pool\")(b1_c2)\n",
        "\n",
        "    b2_c1 = Conv2D(128, (3,3), name=\"block2_conv1\", padding='same', activation=activ)(b1_pool)\n",
        "    b2_c2 = Conv2D(128, (3,3), name=\"block2_conv2\", padding='same', activation=activ)(b2_c1) ## Skip connection 2 from here\n",
        "    b2_pool = MaxPooling2D(name=\"block2_pool\")(b2_c2)\n",
        "\n",
        "    b3_c1 = Conv2D(256, (3,3), name=\"block3_conv1\", padding='same', activation=activ)(b2_pool)\n",
        "    b3_c2 = Conv2D(256, (3,3), name=\"block3_conv2\", padding='same', activation=activ)(b3_c1) ## Skip connection 3 from here\n",
        "    b3_pool = MaxPooling2D(name=\"block3_pool\")(b3_c2)\n",
        "\n",
        "    b4_c1 = Conv2D(512, (3,3), name=\"block4_conv1\", padding='same', activation=activ)(b3_pool)\n",
        "    b4_c2 = Conv2D(512, (3,3), name=\"block4_conv2\", padding='same', activation=activ)(b4_c1) ## Skip connection 4 from here\n",
        "    b4_pool = MaxPooling2D(name=\"block4_pool\")(b4_c2)\n",
        "\n",
        "    b5_c1 = Conv2D(1024, (3,3), name=\"nblock5_conv1\", padding='same', activation=activ)(b4_pool)\n",
        "    b5_tc1 = UpSampling2D((2,2))(b5_c1)\n",
        "    b5_tc1 = Conv2D(512, (3,3), strides=(1,1), padding='same')(b5_tc1)\n",
        "    b5_bn = BatchNormalization()(b5_tc1)\n",
        "\n",
        "    sk4 = Concatenate(name=\"skip4\")([b4_c2, b5_bn])\n",
        "\n",
        "    nb4_c1 = Conv2D(512, (3,3), name=\"nblock4_conv1\", padding='same', activation=activ)(sk4)\n",
        "    nb4_c2 = Conv2D(512, (3,3), name=\"nblock4_conv2\", padding='same', activation=activ)(nb4_c1)\n",
        "    nb4_tc1 = UpSampling2D((2,2))(nb4_c2)\n",
        "    nb4_tc1 = Conv2D(256, (3,3), strides=(1,1), padding='same', name=\"nblock4_tconv1\")(nb4_tc1)\n",
        "    b4_bn = BatchNormalization()(nb4_tc1)\n",
        "\n",
        "    sk3 = Concatenate(name=\"skip3\")([b3_c2, b4_bn])\n",
        "\n",
        "    nb3_c1 = Conv2D(256, (3,3), name=\"nblock3_conv1\", padding='same', activation=activ)(sk3)\n",
        "    nb3_c2 = Conv2D(256, (3,3), name=\"nblock3_conv2\", padding='same', activation=activ)(nb3_c1)\n",
        "    nb3_tc1 = UpSampling2D((2,2))(nb3_c2)\n",
        "    nb3_tc1 = Conv2D(128, (3,3), strides=(1,1), padding='same', name=\"nblock3_tconv1\")(nb3_tc1)\n",
        "    b3_bn = BatchNormalization()(nb3_tc1)\n",
        "\n",
        "    sk2 = Concatenate(name=\"skip2\")([b2_c2, b3_bn])\n",
        "\n",
        "    nb2_c1 = Conv2D(128, (3,3), name=\"nblock2_conv1\", padding='same', activation=activ)(sk2)\n",
        "    nb2_c2 = Conv2D(128, (3,3), name=\"nblock2_conv2\", padding='same', activation=activ)(nb2_c1)\n",
        "    nb2_tc1 = UpSampling2D((2,2))(nb2_c2)\n",
        "    nb2_tc1 = Conv2D(64, (3,3), strides=(1,1), padding='same', name=\"nblock2_tconv1\")(nb2_tc1)\n",
        "    b2_bn = BatchNormalization()(nb2_tc1)\n",
        "    sk1 = Concatenate(name=\"skip1\")([b1_c2, b2_bn])\n",
        "\n",
        "    scoreConv1 = Conv2D(64, (3,3), padding='same', name=\"score_conv1\", activation=activ)(sk1)\n",
        "    bf_bn = BatchNormalization()(scoreConv1)\n",
        "    finalConv = Conv2D(classes, (3,3), padding='same', name=\"output_conv\", activation='softmax')(bf_bn)\n",
        "\n",
        "    model = Model(inputs=[inputLayer], outputs=[finalConv])\n",
        "\n",
        "    if vggWeightsPath is not None:\n",
        "        model.load_weights(vggWeightsPath, by_name=True)\n",
        "\n",
        "    if freezeVGGLayers:\n",
        "        for layer in model.layers[:14]:\n",
        "            layer.trainable=False\n",
        "    return model\n",
        "\n"
      ],
      "execution_count": null,
      "outputs": []
    },
    {
      "cell_type": "code",
      "metadata": {
        "id": "aHMH8W43-YNj"
      },
      "source": [],
      "execution_count": null,
      "outputs": []
    },
    {
      "cell_type": "code",
      "metadata": {
        "id": "MXSfPBVe-d-G",
        "outputId": "caae7e24-32f7-449a-d9d5-08f849b64103",
        "colab": {
          "base_uri": "https://localhost:8080/",
          "height": 54
        }
      },
      "source": [
        "## test code\n",
        "'''\n",
        "if __name__ == \"__main__\":\n",
        "  vggWeightsFile = \"/content/drive/My Drive/MPHYS/vgg16_weights_tf_dim_ordering_tf_kernels_notop.h5\"\n",
        "  model = buildModel(vggWeightsFile)\n",
        "\n",
        "  print(model.summary())\n",
        "'''"
      ],
      "execution_count": null,
      "outputs": [
        {
          "output_type": "execute_result",
          "data": {
            "text/plain": [
              "'\\nif __name__ == \"__main__\":\\n  vggWeightsFile = \"/content/drive/My Drive/MPHYS/vgg16_weights_tf_dim_ordering_tf_kernels_notop.h5\"\\n  model = buildModel(vggWeightsFile)\\n\\n  print(model.summary())\\n'"
            ]
          },
          "metadata": {
            "tags": []
          },
          "execution_count": 6
        }
      ]
    },
    {
      "cell_type": "code",
      "metadata": {
        "id": "Hx2r5TrA_2OS"
      },
      "source": [
        "import tensorflow as tf\n",
        "import tensorflow.keras as keras\n",
        "import keras.backend as K\n",
        "from keras.preprocessing.image import ImageDataGenerator\n",
        "from keras.optimizers import Adam, Nadam, SGD"
      ],
      "execution_count": null,
      "outputs": []
    },
    {
      "cell_type": "code",
      "metadata": {
        "id": "r7XNMdjW8gie"
      },
      "source": [],
      "execution_count": null,
      "outputs": []
    },
    {
      "cell_type": "code",
      "metadata": {
        "id": "iEN67HCVI3JI"
      },
      "source": [
        "import numpy as np\n",
        "import json\n",
        "from keras.models import Model, Sequential\n",
        "from keras.callbacks import TensorBoard, ModelCheckpoint, ReduceLROnPlateau, EarlyStopping\n",
        "import matplotlib\n",
        "matplotlib.use('agg')\n",
        "import matplotlib.pyplot as plt"
      ],
      "execution_count": null,
      "outputs": []
    },
    {
      "cell_type": "code",
      "metadata": {
        "id": "Ftn6kJQrLaG0"
      },
      "source": [
        "vggWeightsFile = \"/content/drive/My Drive/MPHYS/vgg16_weights_tf_dim_ordering_tf_kernels_notop.h5\""
      ],
      "execution_count": null,
      "outputs": []
    },
    {
      "cell_type": "code",
      "metadata": {
        "id": "2A6oUDBELcxL"
      },
      "source": [
        "def logitLossFunction(tgt, logits):\n",
        "    logits_flat = K.reshape(logits, [-1, 4])\n",
        "    tgt_flat = K.reshape(tgt, [-1,4])\n",
        "    return tf.reduce_mean(tf.nn.softmax_cross_entropy_with_logits_v2(logits=logits_flat, labels=tgt_flat))\n",
        "\n",
        "def focalLogitLossFunction(tgt, logits, gamma=2):\n",
        "    logits_flat = K.reshape(logits, [-1, 4])\n",
        "    tgt_flat = K.reshape(tgt, [-1,4])\n",
        "    L = -tgt_flat*((1-logits_flat)**gamma)*tf.log(logits_flat)\n",
        "    return tf.reduce_sum(L, axis=1)\n",
        "\n",
        "def dice_coef(y_true, y_pred, smooth=1):\n",
        "    \"\"\"\n",
        "    Dice = (2*|X & Y|)/ (|X|+ |Y|)\n",
        "         =  2*sum(|A*B|)/(sum(A^2)+sum(B^2))\n",
        "    ref: https://arxiv.org/pdf/1606.04797v1.pdf\n",
        "    \"\"\"\n",
        "    intersection = K.sum(K.abs(y_true * y_pred), axis=-1)\n",
        "    return (2. * intersection + smooth) / (K.sum(K.square(y_true),-1) + K.sum(K.square(y_pred),-1) + smooth)\n",
        "\n",
        "def dice_coef_loss(y_true, y_pred):\n",
        "    return 1-dice_coef(y_true, y_pred)\n",
        "\n",
        "\n",
        "def multiclass_dice(y_true, y_pred, smooth=1):\n",
        "    y_true_f = K.flatten(y_true[...,1:]) ## ignore background\n",
        "    y_pred_f = K.flatten(y_pred[...,1:])\n",
        "    intersection = K.sum(y_true_f * y_pred_f, axis=-1)\n",
        "    denom = K.sum(y_true_f + y_pred_f, axis=-1)\n",
        "    return K.mean((2. * intersection / (denom + smooth)))\n",
        "\n",
        "def multiclass_dice_loss(y_true, y_pred):\n",
        "    return 1 - multiclass_dice(y_true, y_pred)"
      ],
      "execution_count": null,
      "outputs": []
    },
    {
      "cell_type": "code",
      "metadata": {
        "id": "3UTeDcE0NauB"
      },
      "source": [
        "training = True"
      ],
      "execution_count": null,
      "outputs": []
    },
    {
      "cell_type": "code",
      "metadata": {
        "id": "drdU8GTfOwhK"
      },
      "source": [
        "slicesPath = \"/content/drive/My Drive/MPHYS/NEW_NPYStacks/NPScansTrainStack.npy\"\n",
        "masksPath = \"/content/drive/My Drive/MPHYS/NEW_NPYStacks/NPMasksTrainStack.npy\"\n",
        "\n",
        "valSlicesPath = \"/content/drive/My Drive/MPHYS/NEW_NPYStacks/NPScansValStack.npy\"\n",
        "valMasksPath = \"/content/drive/My Drive/MPHYS/NEW_NPYStacks/NPMasksValStack.npy\"\n",
        "\n",
        "testSlicesPath = \"/content/drive/My Drive/MPHYS/NEW_NPYStacks/NPScansTestStack.npy\"\n",
        "testMasksPath = \"/content/drive/My Drive/MPHYS/NEW_NPYStacks/NPMasksTestStack.npy\""
      ],
      "execution_count": null,
      "outputs": []
    },
    {
      "cell_type": "code",
      "metadata": {
        "id": "tS1bIDgsO6i6"
      },
      "source": [
        "from keras.utils import to_categorical\n",
        "\n",
        "slices = np.load(slicesPath)\n",
        "masks = to_categorical(np.load(masksPath))\n",
        "\n",
        "valSlices = np.load(valSlicesPath)\n",
        "valMasks = to_categorical(np.load(valMasksPath))\n",
        "\n",
        "testSlices = np.load(testSlicesPath)\n",
        "testMasks = to_categorical(np.load(testMasksPath))\n"
      ],
      "execution_count": null,
      "outputs": []
    },
    {
      "cell_type": "code",
      "metadata": {
        "id": "ecK72FAiO_lW"
      },
      "source": [
        "wlspec = np.array([[600, 1600, 700], [1070, 1800, 960]])\n",
        "wlspecminus = np.array([[600, 1600, 700], [46, 776, -64]])\n",
        "wlspecMinusNew = np.array([[200, 507, 700], [-18, -36, -250]])"
      ],
      "execution_count": null,
      "outputs": []
    },
    {
      "cell_type": "code",
      "metadata": {
        "id": "_gj20J0zPCeK"
      },
      "source": [
        "datagen = ImageDataGenerator(rotation_range=5, zoom_range=0.1, horizontal_flip=False, fill_mode='nearest')\n",
        "maskgen = ImageDataGenerator(rotation_range=5, zoom_range=0.1, horizontal_flip=False, fill_mode='nearest')"
      ],
      "execution_count": null,
      "outputs": []
    },
    {
      "cell_type": "code",
      "metadata": {
        "id": "rnzt3GXQPFba"
      },
      "source": [
        "valsgen = ImageDataGenerator()\n",
        "valmgen = ImageDataGenerator()"
      ],
      "execution_count": null,
      "outputs": []
    },
    {
      "cell_type": "code",
      "metadata": {
        "id": "t8Anh3ytPHiJ",
        "outputId": "029d335a-929e-4971-9c5a-6a60783926f1",
        "colab": {
          "base_uri": "https://localhost:8080/",
          "height": 71
        }
      },
      "source": [
        "seed = 1234\n",
        "sliceGenerator = datagen.flow(slices,  seed=seed, batch_size=2)#, save_to_dir=\"./augImages\")\n",
        "maskGenerator = maskgen.flow(masks,  seed=seed, batch_size=2)#, save_to_dir=\"./augMasks\")\n",
        "\n",
        "# reduced batch size because of Resource exhausted: OOM when allocating tensor with shape[4,128,512,512] error"
      ],
      "execution_count": null,
      "outputs": [
        {
          "output_type": "stream",
          "text": [
            "/usr/local/lib/python3.6/dist-packages/keras_preprocessing/image/numpy_array_iterator.py:127: UserWarning: NumpyArrayIterator is set to use the data format convention \"channels_last\" (channels on axis 3), i.e. expected either 1, 3, or 4 channels on axis 3. However, it was passed an array with shape (61, 512, 512, 2) (2 channels).\n",
            "  str(self.x.shape[channels_axis]) + ' channels).')\n"
          ],
          "name": "stderr"
        }
      ]
    },
    {
      "cell_type": "code",
      "metadata": {
        "id": "PoGdWCvWPLQW",
        "outputId": "7c6bbe26-7d7d-43ee-8b17-31cbae686265",
        "colab": {
          "base_uri": "https://localhost:8080/",
          "height": 71
        }
      },
      "source": [
        "valSliceGenerator = valsgen.flow(valSlices[:], seed=seed+1, batch_size=1)\n",
        "valMaskGenerator  = valmgen.flow(valMasks[:], seed=seed+1, batch_size=1)"
      ],
      "execution_count": null,
      "outputs": [
        {
          "output_type": "stream",
          "text": [
            "/usr/local/lib/python3.6/dist-packages/keras_preprocessing/image/numpy_array_iterator.py:127: UserWarning: NumpyArrayIterator is set to use the data format convention \"channels_last\" (channels on axis 3), i.e. expected either 1, 3, or 4 channels on axis 3. However, it was passed an array with shape (5, 512, 512, 2) (2 channels).\n",
            "  str(self.x.shape[channels_axis]) + ' channels).')\n"
          ],
          "name": "stderr"
        }
      ]
    },
    {
      "cell_type": "code",
      "metadata": {
        "id": "KIswg2sE8wVS"
      },
      "source": [
        "train_generator = zip(sliceGenerator, maskGenerator)\n",
        "val_generator = zip(valSliceGenerator, valMaskGenerator)"
      ],
      "execution_count": null,
      "outputs": []
    },
    {
      "cell_type": "code",
      "metadata": {
        "id": "zAy2WeQ49DLf"
      },
      "source": [
        "model = buildModel(vggWeightsFile, classes=2, freezeVGGLayers=True, wllayer=True, wlSpec=wlspecMinusNew)"
      ],
      "execution_count": null,
      "outputs": []
    },
    {
      "cell_type": "code",
      "metadata": {
        "id": "Dhpdkj6J8YPe",
        "outputId": "75758cb3-e0b9-46a3-c9d4-53f4258979fd",
        "colab": {
          "base_uri": "https://localhost:8080/",
          "height": 1000
        }
      },
      "source": [
        "print(model.summary())"
      ],
      "execution_count": null,
      "outputs": [
        {
          "output_type": "stream",
          "text": [
            "Model: \"model_4\"\n",
            "__________________________________________________________________________________________________\n",
            "Layer (type)                    Output Shape         Param #     Connected to                     \n",
            "==================================================================================================\n",
            "input_1 (InputLayer)            (None, 512, 512, 1)  0                                            \n",
            "__________________________________________________________________________________________________\n",
            "window_level_layer_4 (WindowLev (None, 512, 512, 3)  6           input_1[0][0]                    \n",
            "__________________________________________________________________________________________________\n",
            "block1_conv1 (Conv2D)           (None, 512, 512, 64) 1792        window_level_layer_4[0][0]       \n",
            "__________________________________________________________________________________________________\n",
            "block1_conv2 (Conv2D)           (None, 512, 512, 64) 36928       block1_conv1[0][0]               \n",
            "__________________________________________________________________________________________________\n",
            "block1_pool (MaxPooling2D)      (None, 256, 256, 64) 0           block1_conv2[0][0]               \n",
            "__________________________________________________________________________________________________\n",
            "block2_conv1 (Conv2D)           (None, 256, 256, 128 73856       block1_pool[0][0]                \n",
            "__________________________________________________________________________________________________\n",
            "block2_conv2 (Conv2D)           (None, 256, 256, 128 147584      block2_conv1[0][0]               \n",
            "__________________________________________________________________________________________________\n",
            "block2_pool (MaxPooling2D)      (None, 128, 128, 128 0           block2_conv2[0][0]               \n",
            "__________________________________________________________________________________________________\n",
            "block3_conv1 (Conv2D)           (None, 128, 128, 256 295168      block2_pool[0][0]                \n",
            "__________________________________________________________________________________________________\n",
            "block3_conv2 (Conv2D)           (None, 128, 128, 256 590080      block3_conv1[0][0]               \n",
            "__________________________________________________________________________________________________\n",
            "block3_pool (MaxPooling2D)      (None, 64, 64, 256)  0           block3_conv2[0][0]               \n",
            "__________________________________________________________________________________________________\n",
            "block4_conv1 (Conv2D)           (None, 64, 64, 512)  1180160     block3_pool[0][0]                \n",
            "__________________________________________________________________________________________________\n",
            "block4_conv2 (Conv2D)           (None, 64, 64, 512)  2359808     block4_conv1[0][0]               \n",
            "__________________________________________________________________________________________________\n",
            "block4_pool (MaxPooling2D)      (None, 32, 32, 512)  0           block4_conv2[0][0]               \n",
            "__________________________________________________________________________________________________\n",
            "nblock5_conv1 (Conv2D)          (None, 32, 32, 1024) 4719616     block4_pool[0][0]                \n",
            "__________________________________________________________________________________________________\n",
            "up_sampling2d_13 (UpSampling2D) (None, 64, 64, 1024) 0           nblock5_conv1[0][0]              \n",
            "__________________________________________________________________________________________________\n",
            "conv2d_4 (Conv2D)               (None, 64, 64, 512)  4719104     up_sampling2d_13[0][0]           \n",
            "__________________________________________________________________________________________________\n",
            "batch_normalization_16 (BatchNo (None, 64, 64, 512)  2048        conv2d_4[0][0]                   \n",
            "__________________________________________________________________________________________________\n",
            "skip4 (Concatenate)             (None, 64, 64, 1024) 0           block4_conv2[0][0]               \n",
            "                                                                 batch_normalization_16[0][0]     \n",
            "__________________________________________________________________________________________________\n",
            "nblock4_conv1 (Conv2D)          (None, 64, 64, 512)  4719104     skip4[0][0]                      \n",
            "__________________________________________________________________________________________________\n",
            "nblock4_conv2 (Conv2D)          (None, 64, 64, 512)  2359808     nblock4_conv1[0][0]              \n",
            "__________________________________________________________________________________________________\n",
            "up_sampling2d_14 (UpSampling2D) (None, 128, 128, 512 0           nblock4_conv2[0][0]              \n",
            "__________________________________________________________________________________________________\n",
            "nblock4_tconv1 (Conv2D)         (None, 128, 128, 256 1179904     up_sampling2d_14[0][0]           \n",
            "__________________________________________________________________________________________________\n",
            "batch_normalization_17 (BatchNo (None, 128, 128, 256 1024        nblock4_tconv1[0][0]             \n",
            "__________________________________________________________________________________________________\n",
            "skip3 (Concatenate)             (None, 128, 128, 512 0           block3_conv2[0][0]               \n",
            "                                                                 batch_normalization_17[0][0]     \n",
            "__________________________________________________________________________________________________\n",
            "nblock3_conv1 (Conv2D)          (None, 128, 128, 256 1179904     skip3[0][0]                      \n",
            "__________________________________________________________________________________________________\n",
            "nblock3_conv2 (Conv2D)          (None, 128, 128, 256 590080      nblock3_conv1[0][0]              \n",
            "__________________________________________________________________________________________________\n",
            "up_sampling2d_15 (UpSampling2D) (None, 256, 256, 256 0           nblock3_conv2[0][0]              \n",
            "__________________________________________________________________________________________________\n",
            "nblock3_tconv1 (Conv2D)         (None, 256, 256, 128 295040      up_sampling2d_15[0][0]           \n",
            "__________________________________________________________________________________________________\n",
            "batch_normalization_18 (BatchNo (None, 256, 256, 128 512         nblock3_tconv1[0][0]             \n",
            "__________________________________________________________________________________________________\n",
            "skip2 (Concatenate)             (None, 256, 256, 256 0           block2_conv2[0][0]               \n",
            "                                                                 batch_normalization_18[0][0]     \n",
            "__________________________________________________________________________________________________\n",
            "nblock2_conv1 (Conv2D)          (None, 256, 256, 128 295040      skip2[0][0]                      \n",
            "__________________________________________________________________________________________________\n",
            "nblock2_conv2 (Conv2D)          (None, 256, 256, 128 147584      nblock2_conv1[0][0]              \n",
            "__________________________________________________________________________________________________\n",
            "up_sampling2d_16 (UpSampling2D) (None, 512, 512, 128 0           nblock2_conv2[0][0]              \n",
            "__________________________________________________________________________________________________\n",
            "nblock2_tconv1 (Conv2D)         (None, 512, 512, 64) 73792       up_sampling2d_16[0][0]           \n",
            "__________________________________________________________________________________________________\n",
            "batch_normalization_19 (BatchNo (None, 512, 512, 64) 256         nblock2_tconv1[0][0]             \n",
            "__________________________________________________________________________________________________\n",
            "skip1 (Concatenate)             (None, 512, 512, 128 0           block1_conv2[0][0]               \n",
            "                                                                 batch_normalization_19[0][0]     \n",
            "__________________________________________________________________________________________________\n",
            "score_conv1 (Conv2D)            (None, 512, 512, 64) 73792       skip1[0][0]                      \n",
            "__________________________________________________________________________________________________\n",
            "batch_normalization_20 (BatchNo (None, 512, 512, 64) 256         score_conv1[0][0]                \n",
            "__________________________________________________________________________________________________\n",
            "output_conv (Conv2D)            (None, 512, 512, 2)  1154        batch_normalization_20[0][0]     \n",
            "==================================================================================================\n",
            "Total params: 25,043,400\n",
            "Trainable params: 20,355,970\n",
            "Non-trainable params: 4,687,430\n",
            "__________________________________________________________________________________________________\n",
            "None\n"
          ],
          "name": "stdout"
        }
      ]
    },
    {
      "cell_type": "code",
      "metadata": {
        "id": "Q90CHdgp9Mfc"
      },
      "source": [],
      "execution_count": null,
      "outputs": []
    },
    {
      "cell_type": "code",
      "metadata": {
        "id": "gCETwqw-9Fpj",
        "outputId": "529ef815-6656-480b-eb0e-baec92ae7f31",
        "colab": {
          "base_uri": "https://localhost:8080/",
          "height": 252
        }
      },
      "source": [
        "ftOpt = Adam(lr=0.001)\n",
        "model.compile(optimizer=Adam(lr=0.01), loss=dice_coef)"
      ],
      "execution_count": null,
      "outputs": [
        {
          "output_type": "stream",
          "text": [
            "WARNING:tensorflow:From /tensorflow-1.15.2/python3.6/tensorflow_core/python/ops/resource_variable_ops.py:1630: calling BaseResourceVariable.__init__ (from tensorflow.python.ops.resource_variable_ops) with constraint is deprecated and will be removed in a future version.\n",
            "Instructions for updating:\n",
            "If using Keras pass *_constraint arguments to layers.\n"
          ],
          "name": "stdout"
        },
        {
          "output_type": "error",
          "ename": "NameError",
          "evalue": "ignored",
          "traceback": [
            "\u001b[0;31m---------------------------------------------------------------------------\u001b[0m",
            "\u001b[0;31mNameError\u001b[0m                                 Traceback (most recent call last)",
            "\u001b[0;32m<ipython-input-19-dfbb6d5912ab>\u001b[0m in \u001b[0;36m<module>\u001b[0;34m()\u001b[0m\n\u001b[1;32m      1\u001b[0m \u001b[0mftOpt\u001b[0m \u001b[0;34m=\u001b[0m \u001b[0mAdam\u001b[0m\u001b[0;34m(\u001b[0m\u001b[0mlr\u001b[0m\u001b[0;34m=\u001b[0m\u001b[0;36m0.001\u001b[0m\u001b[0;34m)\u001b[0m\u001b[0;34m\u001b[0m\u001b[0;34m\u001b[0m\u001b[0m\n\u001b[0;32m----> 2\u001b[0;31m \u001b[0mmodel\u001b[0m\u001b[0;34m.\u001b[0m\u001b[0mcompile\u001b[0m\u001b[0;34m(\u001b[0m\u001b[0moptimizer\u001b[0m\u001b[0;34m=\u001b[0m\u001b[0mAdam\u001b[0m\u001b[0;34m(\u001b[0m\u001b[0mlr\u001b[0m\u001b[0;34m=\u001b[0m\u001b[0;36m0.01\u001b[0m\u001b[0;34m)\u001b[0m\u001b[0;34m,\u001b[0m \u001b[0mloss\u001b[0m\u001b[0;34m=\u001b[0m\u001b[0mdice_coef\u001b[0m\u001b[0;34m)\u001b[0m\u001b[0;34m\u001b[0m\u001b[0;34m\u001b[0m\u001b[0m\n\u001b[0m",
            "\u001b[0;31mNameError\u001b[0m: name 'model' is not defined"
          ]
        }
      ]
    },
    {
      "cell_type": "code",
      "metadata": {
        "id": "VncWTnLsQ8ft"
      },
      "source": [
        "! mkdir logs && mkdir log\\s/01\n",
        "logdir = \"./logs/01/\""
      ],
      "execution_count": null,
      "outputs": []
    },
    {
      "cell_type": "code",
      "metadata": {
        "id": "Oy4fMT4g9SDJ"
      },
      "source": [
        "logging = TensorBoard(log_dir=logdir)\n",
        "checkpoint = ModelCheckpoint(logdir + 'ep{epoch:03d}-loss{loss:.3f}-val_loss{val_loss:.3f}.h5', monitor='val_loss', save_weights_only=True, save_best_only=True, period=3)\n",
        "reduce_lr = ReduceLROnPlateau(monitor='val_loss', factor=0.1, patience=3, verbose=1)\n",
        "early_stopping = EarlyStopping(monitor='val_loss', min_delta=0, patience=10, verbose=1)"
      ],
      "execution_count": null,
      "outputs": []
    },
    {
      "cell_type": "code",
      "metadata": {
        "id": "cuvde7h49WhC",
        "outputId": "4d952440-765c-4bc2-db1c-53245203ec35",
        "colab": {
          "base_uri": "https://localhost:8080/",
          "height": 1000
        }
      },
      "source": [
        "if training:\n",
        "    history_initial = model.fit_generator(train_generator, steps_per_epoch=100, epochs=10, validation_data=val_generator, validation_steps=6, callbacks=[checkpoint, reduce_lr, early_stopping])\n",
        "\n",
        "    ## at thins point, maybe make some layers trainable again?\n",
        "    modelJSON = model.to_json()\n",
        "    with open(\"vgg16_UNet_tf.json\", 'w') as mjsn:\n",
        "        mjsn.write(modelJSON)\n",
        "    model.save_weights(\"vgg16_UNet_4class_stage1_dsc_tf.h5\")\n",
        "\n",
        "    for i in range(len(model.layers)):\n",
        "            model.layers[i].trainable = True\n",
        "\n",
        "    model.compile(optimizer=Adam(lr=1e-4), loss=dice_coef_loss)\n",
        "    print(model.summary())\n",
        "    history_main = model.fit_generator(train_generator, steps_per_epoch=100, epochs=100, validation_data=val_generator, validation_steps=6, initial_epoch=10, callbacks=[checkpoint, reduce_lr, early_stopping])\n",
        "    model.save_weights(\"vgg16_UNet_4class_stage2_dsc_tf.h5\")\n",
        "else:\n",
        "    model.load_weights(\"/content/drive/My Drive/MPHYS/CNNFILES/vgg16_UNet_4class.h5\")"
      ],
      "execution_count": null,
      "outputs": [
        {
          "output_type": "stream",
          "text": [
            "Epoch 1/10\n",
            "100/100 [==============================] - 27s 272ms/step - loss: 0.4188 - val_loss: 0.3794\n",
            "Epoch 2/10\n",
            "100/100 [==============================] - 25s 252ms/step - loss: 0.3546 - val_loss: 0.3545\n",
            "Epoch 3/10\n",
            "100/100 [==============================] - 25s 253ms/step - loss: 0.3470 - val_loss: 0.3585\n",
            "Epoch 4/10\n",
            "100/100 [==============================] - 25s 252ms/step - loss: 0.3391 - val_loss: 0.3499\n",
            "Epoch 5/10\n",
            "100/100 [==============================] - 25s 251ms/step - loss: 0.3369 - val_loss: 0.3494\n",
            "Epoch 6/10\n",
            "100/100 [==============================] - 25s 252ms/step - loss: 0.3364 - val_loss: 0.3351\n",
            "Epoch 7/10\n",
            "100/100 [==============================] - 25s 252ms/step - loss: 0.3358 - val_loss: 0.3550\n",
            "Epoch 8/10\n",
            "100/100 [==============================] - 25s 252ms/step - loss: 0.3356 - val_loss: 0.3389\n",
            "Epoch 9/10\n",
            "100/100 [==============================] - 25s 251ms/step - loss: 0.3355 - val_loss: 0.3367\n",
            "\n",
            "Epoch 00009: ReduceLROnPlateau reducing learning rate to 0.0009999999776482583.\n",
            "Epoch 10/10\n",
            "100/100 [==============================] - 25s 252ms/step - loss: 0.3353 - val_loss: 0.3368\n",
            "Model: \"model_4\"\n",
            "__________________________________________________________________________________________________\n",
            "Layer (type)                    Output Shape         Param #     Connected to                     \n",
            "==================================================================================================\n",
            "input_1 (InputLayer)            (None, 512, 512, 1)  0                                            \n",
            "__________________________________________________________________________________________________\n",
            "window_level_layer_4 (WindowLev (None, 512, 512, 3)  6           input_1[0][0]                    \n",
            "__________________________________________________________________________________________________\n",
            "block1_conv1 (Conv2D)           (None, 512, 512, 64) 1792        window_level_layer_4[0][0]       \n",
            "__________________________________________________________________________________________________\n",
            "block1_conv2 (Conv2D)           (None, 512, 512, 64) 36928       block1_conv1[0][0]               \n",
            "__________________________________________________________________________________________________\n",
            "block1_pool (MaxPooling2D)      (None, 256, 256, 64) 0           block1_conv2[0][0]               \n",
            "__________________________________________________________________________________________________\n",
            "block2_conv1 (Conv2D)           (None, 256, 256, 128 73856       block1_pool[0][0]                \n",
            "__________________________________________________________________________________________________\n",
            "block2_conv2 (Conv2D)           (None, 256, 256, 128 147584      block2_conv1[0][0]               \n",
            "__________________________________________________________________________________________________\n",
            "block2_pool (MaxPooling2D)      (None, 128, 128, 128 0           block2_conv2[0][0]               \n",
            "__________________________________________________________________________________________________\n",
            "block3_conv1 (Conv2D)           (None, 128, 128, 256 295168      block2_pool[0][0]                \n",
            "__________________________________________________________________________________________________\n",
            "block3_conv2 (Conv2D)           (None, 128, 128, 256 590080      block3_conv1[0][0]               \n",
            "__________________________________________________________________________________________________\n",
            "block3_pool (MaxPooling2D)      (None, 64, 64, 256)  0           block3_conv2[0][0]               \n",
            "__________________________________________________________________________________________________\n",
            "block4_conv1 (Conv2D)           (None, 64, 64, 512)  1180160     block3_pool[0][0]                \n",
            "__________________________________________________________________________________________________\n",
            "block4_conv2 (Conv2D)           (None, 64, 64, 512)  2359808     block4_conv1[0][0]               \n",
            "__________________________________________________________________________________________________\n",
            "block4_pool (MaxPooling2D)      (None, 32, 32, 512)  0           block4_conv2[0][0]               \n",
            "__________________________________________________________________________________________________\n",
            "nblock5_conv1 (Conv2D)          (None, 32, 32, 1024) 4719616     block4_pool[0][0]                \n",
            "__________________________________________________________________________________________________\n",
            "up_sampling2d_13 (UpSampling2D) (None, 64, 64, 1024) 0           nblock5_conv1[0][0]              \n",
            "__________________________________________________________________________________________________\n",
            "conv2d_4 (Conv2D)               (None, 64, 64, 512)  4719104     up_sampling2d_13[0][0]           \n",
            "__________________________________________________________________________________________________\n",
            "batch_normalization_16 (BatchNo (None, 64, 64, 512)  2048        conv2d_4[0][0]                   \n",
            "__________________________________________________________________________________________________\n",
            "skip4 (Concatenate)             (None, 64, 64, 1024) 0           block4_conv2[0][0]               \n",
            "                                                                 batch_normalization_16[0][0]     \n",
            "__________________________________________________________________________________________________\n",
            "nblock4_conv1 (Conv2D)          (None, 64, 64, 512)  4719104     skip4[0][0]                      \n",
            "__________________________________________________________________________________________________\n",
            "nblock4_conv2 (Conv2D)          (None, 64, 64, 512)  2359808     nblock4_conv1[0][0]              \n",
            "__________________________________________________________________________________________________\n",
            "up_sampling2d_14 (UpSampling2D) (None, 128, 128, 512 0           nblock4_conv2[0][0]              \n",
            "__________________________________________________________________________________________________\n",
            "nblock4_tconv1 (Conv2D)         (None, 128, 128, 256 1179904     up_sampling2d_14[0][0]           \n",
            "__________________________________________________________________________________________________\n",
            "batch_normalization_17 (BatchNo (None, 128, 128, 256 1024        nblock4_tconv1[0][0]             \n",
            "__________________________________________________________________________________________________\n",
            "skip3 (Concatenate)             (None, 128, 128, 512 0           block3_conv2[0][0]               \n",
            "                                                                 batch_normalization_17[0][0]     \n",
            "__________________________________________________________________________________________________\n",
            "nblock3_conv1 (Conv2D)          (None, 128, 128, 256 1179904     skip3[0][0]                      \n",
            "__________________________________________________________________________________________________\n",
            "nblock3_conv2 (Conv2D)          (None, 128, 128, 256 590080      nblock3_conv1[0][0]              \n",
            "__________________________________________________________________________________________________\n",
            "up_sampling2d_15 (UpSampling2D) (None, 256, 256, 256 0           nblock3_conv2[0][0]              \n",
            "__________________________________________________________________________________________________\n",
            "nblock3_tconv1 (Conv2D)         (None, 256, 256, 128 295040      up_sampling2d_15[0][0]           \n",
            "__________________________________________________________________________________________________\n",
            "batch_normalization_18 (BatchNo (None, 256, 256, 128 512         nblock3_tconv1[0][0]             \n",
            "__________________________________________________________________________________________________\n",
            "skip2 (Concatenate)             (None, 256, 256, 256 0           block2_conv2[0][0]               \n",
            "                                                                 batch_normalization_18[0][0]     \n",
            "__________________________________________________________________________________________________\n",
            "nblock2_conv1 (Conv2D)          (None, 256, 256, 128 295040      skip2[0][0]                      \n",
            "__________________________________________________________________________________________________\n",
            "nblock2_conv2 (Conv2D)          (None, 256, 256, 128 147584      nblock2_conv1[0][0]              \n",
            "__________________________________________________________________________________________________\n",
            "up_sampling2d_16 (UpSampling2D) (None, 512, 512, 128 0           nblock2_conv2[0][0]              \n",
            "__________________________________________________________________________________________________\n",
            "nblock2_tconv1 (Conv2D)         (None, 512, 512, 64) 73792       up_sampling2d_16[0][0]           \n",
            "__________________________________________________________________________________________________\n",
            "batch_normalization_19 (BatchNo (None, 512, 512, 64) 256         nblock2_tconv1[0][0]             \n",
            "__________________________________________________________________________________________________\n",
            "skip1 (Concatenate)             (None, 512, 512, 128 0           block1_conv2[0][0]               \n",
            "                                                                 batch_normalization_19[0][0]     \n",
            "__________________________________________________________________________________________________\n",
            "score_conv1 (Conv2D)            (None, 512, 512, 64) 73792       skip1[0][0]                      \n",
            "__________________________________________________________________________________________________\n",
            "batch_normalization_20 (BatchNo (None, 512, 512, 64) 256         score_conv1[0][0]                \n",
            "__________________________________________________________________________________________________\n",
            "output_conv (Conv2D)            (None, 512, 512, 2)  1154        batch_normalization_20[0][0]     \n",
            "==================================================================================================\n",
            "Total params: 25,043,400\n",
            "Trainable params: 25,041,352\n",
            "Non-trainable params: 2,048\n",
            "__________________________________________________________________________________________________\n",
            "None\n",
            "Epoch 11/100\n",
            "100/100 [==============================] - 33s 328ms/step - loss: 0.5360 - val_loss: 0.4553\n",
            "Epoch 12/100\n",
            "100/100 [==============================] - 30s 301ms/step - loss: 0.4353 - val_loss: 0.5907\n",
            "Epoch 13/100\n",
            "100/100 [==============================] - 30s 302ms/step - loss: 0.3044 - val_loss: 0.4598\n",
            "Epoch 14/100\n",
            "100/100 [==============================] - 30s 302ms/step - loss: 0.2381 - val_loss: 0.3859\n",
            "Epoch 15/100\n",
            "100/100 [==============================] - 30s 302ms/step - loss: 0.1907 - val_loss: 0.3640\n",
            "Epoch 16/100\n",
            "100/100 [==============================] - 30s 302ms/step - loss: 0.1398 - val_loss: 0.3857\n",
            "Epoch 17/100\n",
            "100/100 [==============================] - 30s 300ms/step - loss: 0.0620 - val_loss: 0.4646\n",
            "Epoch 18/100\n",
            "100/100 [==============================] - 30s 301ms/step - loss: 0.0249 - val_loss: 0.3426\n",
            "Epoch 19/100\n",
            "100/100 [==============================] - 30s 301ms/step - loss: 0.0087 - val_loss: 0.0157\n",
            "Epoch 20/100\n",
            "100/100 [==============================] - 30s 301ms/step - loss: 0.0048 - val_loss: 0.0030\n",
            "Epoch 21/100\n",
            "100/100 [==============================] - 30s 300ms/step - loss: 0.0028 - val_loss: 0.0021\n",
            "Epoch 22/100\n",
            "100/100 [==============================] - 30s 301ms/step - loss: 0.0024 - val_loss: 0.0033\n",
            "Epoch 23/100\n",
            "100/100 [==============================] - 30s 301ms/step - loss: 0.0023 - val_loss: 0.0051\n",
            "Epoch 24/100\n",
            "100/100 [==============================] - 30s 301ms/step - loss: 0.0021 - val_loss: 0.0023\n",
            "\n",
            "Epoch 00024: ReduceLROnPlateau reducing learning rate to 9.999999747378752e-06.\n",
            "Epoch 25/100\n",
            "100/100 [==============================] - 30s 300ms/step - loss: 0.0018 - val_loss: 0.0025\n",
            "Epoch 26/100\n",
            "100/100 [==============================] - 30s 302ms/step - loss: 0.0017 - val_loss: 0.0080\n",
            "Epoch 27/100\n",
            "100/100 [==============================] - 30s 302ms/step - loss: 0.0017 - val_loss: 0.0019\n",
            "Epoch 28/100\n",
            "100/100 [==============================] - 30s 302ms/step - loss: 0.0017 - val_loss: 0.0080\n",
            "Epoch 29/100\n",
            "100/100 [==============================] - 30s 302ms/step - loss: 0.0017 - val_loss: 0.0018\n",
            "Epoch 30/100\n",
            "100/100 [==============================] - 30s 301ms/step - loss: 0.0016 - val_loss: 0.0045\n",
            "Epoch 31/100\n",
            "100/100 [==============================] - 30s 302ms/step - loss: 0.0016 - val_loss: 0.0087\n",
            "Epoch 32/100\n",
            "100/100 [==============================] - 30s 302ms/step - loss: 0.0016 - val_loss: 0.0018\n",
            "\n",
            "Epoch 00032: ReduceLROnPlateau reducing learning rate to 9.999999747378752e-07.\n",
            "Epoch 33/100\n",
            "100/100 [==============================] - 30s 301ms/step - loss: 0.0016 - val_loss: 0.0047\n",
            "Epoch 34/100\n",
            "100/100 [==============================] - 30s 300ms/step - loss: 0.0016 - val_loss: 0.0018\n",
            "Epoch 35/100\n",
            "100/100 [==============================] - 30s 301ms/step - loss: 0.0016 - val_loss: 0.0025\n",
            "\n",
            "Epoch 00035: ReduceLROnPlateau reducing learning rate to 9.999999974752428e-08.\n",
            "Epoch 36/100\n",
            "100/100 [==============================] - 30s 301ms/step - loss: 0.0016 - val_loss: 0.0017\n",
            "Epoch 37/100\n",
            "100/100 [==============================] - 30s 301ms/step - loss: 0.0016 - val_loss: 0.0018\n",
            "Epoch 38/100\n",
            "100/100 [==============================] - 30s 301ms/step - loss: 0.0016 - val_loss: 0.0025\n",
            "Epoch 39/100\n",
            "100/100 [==============================] - 30s 300ms/step - loss: 0.0016 - val_loss: 0.0025\n",
            "\n",
            "Epoch 00039: ReduceLROnPlateau reducing learning rate to 1.0000000116860975e-08.\n",
            "Epoch 40/100\n",
            "100/100 [==============================] - 30s 302ms/step - loss: 0.0016 - val_loss: 0.0017\n",
            "Epoch 41/100\n",
            "100/100 [==============================] - 30s 302ms/step - loss: 0.0015 - val_loss: 0.0047\n",
            "Epoch 42/100\n",
            "100/100 [==============================] - 30s 301ms/step - loss: 0.0016 - val_loss: 0.0025\n",
            "\n",
            "Epoch 00042: ReduceLROnPlateau reducing learning rate to 9.999999939225292e-10.\n",
            "Epoch 43/100\n",
            "100/100 [==============================] - 30s 299ms/step - loss: 0.0016 - val_loss: 0.0018\n",
            "Epoch 44/100\n",
            "100/100 [==============================] - 30s 301ms/step - loss: 0.0016 - val_loss: 0.0047\n",
            "Epoch 45/100\n",
            "100/100 [==============================] - 30s 301ms/step - loss: 0.0016 - val_loss: 0.0018\n",
            "\n",
            "Epoch 00045: ReduceLROnPlateau reducing learning rate to 9.999999717180686e-11.\n",
            "Epoch 46/100\n",
            "100/100 [==============================] - 30s 301ms/step - loss: 0.0016 - val_loss: 0.0047\n",
            "Epoch 00046: early stopping\n"
          ],
          "name": "stdout"
        }
      ]
    },
    {
      "cell_type": "code",
      "metadata": {
        "id": "JQaJRDQY9acw",
        "outputId": "81b85ac3-a274-4a16-a1e6-607e83b59ed5",
        "colab": {
          "base_uri": "https://localhost:8080/",
          "height": 51
        }
      },
      "source": [
        "print(history_initial.history.keys())\n",
        "print(history_main.history.keys())"
      ],
      "execution_count": null,
      "outputs": [
        {
          "output_type": "stream",
          "text": [
            "dict_keys(['val_loss', 'loss', 'lr'])\n",
            "dict_keys(['val_loss', 'loss', 'lr'])\n"
          ],
          "name": "stdout"
        }
      ]
    },
    {
      "cell_type": "code",
      "metadata": {
        "id": "raNUJw7vtnz7"
      },
      "source": [
        "val_loss = np.concatenate((history_initial.history['val_loss'], history_main.history['val_loss']))\n",
        "loss = np.concatenate((history_initial.history['loss'], history_main.history['loss']))"
      ],
      "execution_count": null,
      "outputs": []
    },
    {
      "cell_type": "code",
      "metadata": {
        "id": "Pf57nupsbMNn"
      },
      "source": [
        "import matplotlib.pyplot as plt\n",
        "from matplotlib.pyplot import figure"
      ],
      "execution_count": null,
      "outputs": []
    },
    {
      "cell_type": "code",
      "metadata": {
        "id": "s6BXFtbcjosY"
      },
      "source": [
        "%matplotlib inline"
      ],
      "execution_count": null,
      "outputs": []
    },
    {
      "cell_type": "code",
      "metadata": {
        "id": "OW4BtNQoXQq3"
      },
      "source": [],
      "execution_count": null,
      "outputs": []
    },
    {
      "cell_type": "code",
      "metadata": {
        "id": "s7v9xxQKjpdF",
        "outputId": "31984c4d-9c1b-4051-ead0-ff7c7ef48a4e",
        "colab": {
          "base_uri": "https://localhost:8080/",
          "height": 567
        }
      },
      "source": [
        "fig = plt.figure(figsize=(12, 9))\n",
        "ax  = fig.add_subplot(1, 1, 1)\n",
        "\n",
        "ax.plot(loss, marker = 'o')\n",
        "ax.plot(val_loss, marker = 'x')\n",
        "ax.set_title('model loss')\n",
        "ax.set_ylabel('loss')\n",
        "ax.set_xlabel('epoch')\n",
        "ax.legend(['train', 'validation'], loc='upper right')\n",
        "fig.savefig('/content/NewAttemptLoss')"
      ],
      "execution_count": null,
      "outputs": [
        {
          "output_type": "display_data",
          "data": {
            "image/png": "[encoded data removed]",
            "text/plain": [
              "<Figure size 864x648 with 1 Axes>"
            ]
          },
          "metadata": {
            "tags": [],
            "needs_background": "light"
          }
        }
      ]
    },
    {
      "cell_type": "code",
      "metadata": {
        "id": "cgfcqFG1jt6f",
        "outputId": "72789c2f-74f6-47ea-83e9-1fa71e3547fd",
        "colab": {
          "base_uri": "https://localhost:8080/",
          "height": 122
        }
      },
      "source": [
        "WeightsFile = '/content/drive/My Drive/MPHYS/vgg16_UNet_final_weights.h5'\n",
        "model = buildModel(WeightsFile, classes=2, freezeVGGLayers=True, wllayer=True, wlSpec=wlspecMinusNew)\n",
        "model.compile(optimizer=\"Adam\", loss = dice_coef_loss)"
      ],
      "execution_count": null,
      "outputs": [
        {
          "output_type": "stream",
          "text": [
            "WARNING:tensorflow:From /tensorflow-1.15.2/python3.6/tensorflow_core/python/ops/resource_variable_ops.py:1630: calling BaseResourceVariable.__init__ (from tensorflow.python.ops.resource_variable_ops) with constraint is deprecated and will be removed in a future version.\n",
            "Instructions for updating:\n",
            "If using Keras pass *_constraint arguments to layers.\n",
            "WARNING:tensorflow:From /usr/local/lib/python3.6/dist-packages/keras/backend/tensorflow_backend.py:4070: The name tf.nn.max_pool is deprecated. Please use tf.nn.max_pool2d instead.\n",
            "\n"
          ],
          "name": "stdout"
        }
      ]
    },
    {
      "cell_type": "code",
      "metadata": {
        "id": "JgTHX4wgkP4x"
      },
      "source": [
        "model.load_weights(WeightsFile)"
      ],
      "execution_count": null,
      "outputs": []
    },
    {
      "cell_type": "code",
      "metadata": {
        "id": "eidOuACt0GS5",
        "outputId": "42ae31b1-84fe-41da-f1fe-4835c4858c74",
        "colab": {
          "base_uri": "https://localhost:8080/",
          "height": 105
        }
      },
      "source": [
        "results = model.evaluate(testSlices[0][np.newaxis,:,:,:], testMasks[0][np.newaxis,:,:,:], batch_size=1)\n",
        "print('test loss:', results)"
      ],
      "execution_count": null,
      "outputs": [
        {
          "output_type": "stream",
          "text": [
            "WARNING:tensorflow:From /usr/local/lib/python3.6/dist-packages/keras/backend/tensorflow_backend.py:422: The name tf.global_variables is deprecated. Please use tf.compat.v1.global_variables instead.\n",
            "\n",
            "1/1 [==============================] - 11s 11s/step\n",
            "test loss: 0.0015333091141656041\n"
          ],
          "name": "stdout"
        }
      ]
    },
    {
      "cell_type": "code",
      "metadata": {
        "id": "hXJ0qMrSvZvQ",
        "colab": {
          "base_uri": "https://localhost:8080/",
          "height": 221
        },
        "outputId": "a128cc1a-60f2-4aeb-f296-ec0a18ef4fad"
      },
      "source": [
        "dice = []\n",
        "for i in range(0,6):\n",
        "  results = model.evaluate(testSlices[i][np.newaxis,:,:,:], testMasks[i][np.newaxis,:,:,:], batch_size=1)\n",
        "  print('test loss:', results)\n",
        "  dice.append(results)"
      ],
      "execution_count": null,
      "outputs": [
        {
          "output_type": "stream",
          "text": [
            "\r1/1 [==============================] - 1s 775ms/step\n",
            "test loss: 0.0015333091141656041\n",
            "1/1 [==============================] - 1s 679ms/step\n",
            "test loss: 0.005295468959957361\n",
            "1/1 [==============================] - 1s 717ms/step\n",
            "test loss: 0.0022258739918470383\n",
            "1/1 [==============================] - 1s 680ms/step\n",
            "test loss: 0.0023454793263226748\n",
            "1/1 [==============================] - 1s 708ms/step\n",
            "test loss: 0.0059873806312680244\n",
            "1/1 [==============================] - 1s 723ms/step\n",
            "test loss: 0.0017778126057237387\n"
          ],
          "name": "stdout"
        }
      ]
    },
    {
      "cell_type": "code",
      "metadata": {
        "id": "jh6grPkgv9yK",
        "colab": {
          "base_uri": "https://localhost:8080/",
          "height": 51
        },
        "outputId": "9d37863d-5f76-43c1-afcd-c81f595cf1dc"
      },
      "source": [
        "print(np.mean(dice))\n",
        "print(np.std(dice))"
      ],
      "execution_count": null,
      "outputs": [
        {
          "output_type": "stream",
          "text": [
            "0.003194220771547407\n",
            "0.0017625683487308887\n"
          ],
          "name": "stdout"
        }
      ]
    },
    {
      "cell_type": "code",
      "metadata": {
        "id": "v21nPA_E2_zb"
      },
      "source": [
        "n = 0\n",
        "m = 1"
      ],
      "execution_count": null,
      "outputs": []
    },
    {
      "cell_type": "code",
      "metadata": {
        "id": "1qbBuQ094QqI",
        "outputId": "9b7a2276-6955-4c6f-9e62-26b627a9b206",
        "colab": {
          "base_uri": "https://localhost:8080/",
          "height": 68
        }
      },
      "source": [
        "print('\\n# Generate predictions for 1 sample')\n",
        "predictions = model.predict(testSlices[n:m])\n",
        "print('predictions shape:', predictions.shape)"
      ],
      "execution_count": null,
      "outputs": [
        {
          "output_type": "stream",
          "text": [
            "\n",
            "# Generate predictions for 1 sample\n",
            "predictions shape: (1, 512, 512, 2)\n"
          ],
          "name": "stdout"
        }
      ]
    },
    {
      "cell_type": "code",
      "metadata": {
        "id": "_GpzSyqb7dWf"
      },
      "source": [
        "predictions_squeezed = np.squeeze(predictions)"
      ],
      "execution_count": null,
      "outputs": []
    },
    {
      "cell_type": "code",
      "metadata": {
        "id": "rF8F35Ki8A_p"
      },
      "source": [
        "predictions_squeezed_layer_1 = predictions_squeezed[:,:,0]\n",
        "segmentation = np.argmax(predictions_squeezed, axis=-1)"
      ],
      "execution_count": null,
      "outputs": []
    },
    {
      "cell_type": "code",
      "metadata": {
        "id": "U2G5_JUr8D18",
        "outputId": "e90aa7ea-947c-41f0-8199-6f788260fb7f",
        "colab": {
          "base_uri": "https://localhost:8080/",
          "height": 34
        }
      },
      "source": [
        "fig = plt.figure(figsize=(12, 9))\n",
        "ax  = fig.add_subplot(1, 1, 1)\n",
        "\n",
        "ax.imshow(segmentation, cmap=plt.cm.bone)\n",
        "#fig.savefig('/content/NewAttemptOutput')"
      ],
      "execution_count": null,
      "outputs": [
        {
          "output_type": "execute_result",
          "data": {
            "text/plain": [
              "<matplotlib.image.AxesImage at 0x7fc6cda330f0>"
            ]
          },
          "metadata": {
            "tags": []
          },
          "execution_count": 30
        }
      ]
    },
    {
      "cell_type": "code",
      "metadata": {
        "id": "Y97larss8KBk",
        "outputId": "322742ea-83a8-4752-b941-43b0f9a07440",
        "colab": {
          "base_uri": "https://localhost:8080/",
          "height": 558
        }
      },
      "source": [
        "fig = plt.figure(figsize=(12, 9))\n",
        "ax  = fig.add_subplot(1, 1, 1)\n",
        "\n",
        "ax.imshow(np.squeeze(testMasks[n:m])[:,:,1], cmap=plt.cm.bone)\n",
        "#fig.savefig('/content/NewAttempt1Mask')"
      ],
      "execution_count": null,
      "outputs": [
        {
          "output_type": "execute_result",
          "data": {
            "text/plain": [
              "<matplotlib.image.AxesImage at 0x7fd8bf2bc278>"
            ]
          },
          "metadata": {
            "tags": []
          },
          "execution_count": 57
        },
        {
          "output_type": "display_data",
          "data": {
            "image/png": "[encoded data removed]",
            "text/plain": [
              "<Figure size 864x648 with 1 Axes>"
            ]
          },
          "metadata": {
            "tags": [],
            "needs_background": "light"
          }
        }
      ]
    },
    {
      "cell_type": "code",
      "metadata": {
        "id": "FEvdyFAR8cvW"
      },
      "source": [
        "for i in range(0, 1):\n",
        "  predictions = model.predict(testSlices[i:i+1])\n",
        "  predictions_squeezed = np.squeeze(predictions)\n",
        "  predictions_squeezed_layer_1 = predictions_squeezed[:,:,0]\n",
        "  segmentation = np.argmax(predictions_squeezed, axis=-1)\n",
        "  test_mask = np.squeeze(testMasks[i:i+1])[:,:,1]\n",
        "\n",
        "  np.save('Prediction' + str(i), segmentation)\n",
        "  np.save('TestMask' + str(i), test_mask)"
      ],
      "execution_count": null,
      "outputs": []
    },
    {
      "cell_type": "code",
      "metadata": {
        "id": "h_FixldqEVh4"
      },
      "source": [],
      "execution_count": null,
      "outputs": []
    },
    {
      "cell_type": "code",
      "metadata": {
        "id": "A-1c4snEEcY4"
      },
      "source": [],
      "execution_count": null,
      "outputs": []
    }
  ]
}